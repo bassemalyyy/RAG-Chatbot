{
 "cells": [
  {
   "cell_type": "code",
   "execution_count": 8,
   "id": "99add5bb",
   "metadata": {},
   "outputs": [
    {
     "name": "stdout",
     "output_type": "stream",
     "text": [
      "Collecting llama-index-embeddings-ollamaNote: you may need to restart the kernel to use updated packages.\n",
      "\n",
      "  Downloading llama_index_embeddings_ollama-0.6.0-py3-none-any.whl.metadata (684 bytes)\n",
      "Requirement already satisfied: llama-index-core<0.13.0,>=0.12.0 in d:\\work\\myenv\\lib\\site-packages (from llama-index-embeddings-ollama) (0.12.48)\n",
      "Requirement already satisfied: ollama>=0.3.1 in d:\\work\\myenv\\lib\\site-packages (from llama-index-embeddings-ollama) (0.5.1)\n",
      "Requirement already satisfied: aiohttp<4,>=3.8.6 in d:\\work\\myenv\\lib\\site-packages (from llama-index-core<0.13.0,>=0.12.0->llama-index-embeddings-ollama) (3.12.13)\n",
      "Requirement already satisfied: aiosqlite in d:\\work\\myenv\\lib\\site-packages (from llama-index-core<0.13.0,>=0.12.0->llama-index-embeddings-ollama) (0.21.0)\n",
      "Requirement already satisfied: banks<3,>=2.0.0 in d:\\work\\myenv\\lib\\site-packages (from llama-index-core<0.13.0,>=0.12.0->llama-index-embeddings-ollama) (2.1.3)\n",
      "Requirement already satisfied: dataclasses-json in d:\\work\\myenv\\lib\\site-packages (from llama-index-core<0.13.0,>=0.12.0->llama-index-embeddings-ollama) (0.6.7)\n",
      "Requirement already satisfied: deprecated>=1.2.9.3 in d:\\work\\myenv\\lib\\site-packages (from llama-index-core<0.13.0,>=0.12.0->llama-index-embeddings-ollama) (1.2.18)\n",
      "Requirement already satisfied: dirtyjson<2,>=1.0.8 in d:\\work\\myenv\\lib\\site-packages (from llama-index-core<0.13.0,>=0.12.0->llama-index-embeddings-ollama) (1.0.8)\n",
      "Requirement already satisfied: filetype<2,>=1.2.0 in d:\\work\\myenv\\lib\\site-packages (from llama-index-core<0.13.0,>=0.12.0->llama-index-embeddings-ollama) (1.2.0)\n",
      "Requirement already satisfied: fsspec>=2023.5.0 in d:\\work\\myenv\\lib\\site-packages (from llama-index-core<0.13.0,>=0.12.0->llama-index-embeddings-ollama) (2025.5.1)\n",
      "Requirement already satisfied: httpx in d:\\work\\myenv\\lib\\site-packages (from llama-index-core<0.13.0,>=0.12.0->llama-index-embeddings-ollama) (0.28.1)\n",
      "Requirement already satisfied: llama-index-workflows<2,>=1.0.1 in d:\\work\\myenv\\lib\\site-packages (from llama-index-core<0.13.0,>=0.12.0->llama-index-embeddings-ollama) (1.1.0)\n",
      "Requirement already satisfied: nest-asyncio<2,>=1.5.8 in d:\\work\\myenv\\lib\\site-packages (from llama-index-core<0.13.0,>=0.12.0->llama-index-embeddings-ollama) (1.6.0)\n",
      "Requirement already satisfied: networkx>=3.0 in d:\\work\\myenv\\lib\\site-packages (from llama-index-core<0.13.0,>=0.12.0->llama-index-embeddings-ollama) (3.4.2)\n",
      "Requirement already satisfied: nltk>3.8.1 in d:\\work\\myenv\\lib\\site-packages (from llama-index-core<0.13.0,>=0.12.0->llama-index-embeddings-ollama) (3.9.1)\n",
      "Requirement already satisfied: numpy in d:\\work\\myenv\\lib\\site-packages (from llama-index-core<0.13.0,>=0.12.0->llama-index-embeddings-ollama) (2.2.6)\n",
      "Requirement already satisfied: pillow>=9.0.0 in d:\\work\\myenv\\lib\\site-packages (from llama-index-core<0.13.0,>=0.12.0->llama-index-embeddings-ollama) (11.2.1)\n",
      "Requirement already satisfied: pydantic>=2.8.0 in d:\\work\\myenv\\lib\\site-packages (from llama-index-core<0.13.0,>=0.12.0->llama-index-embeddings-ollama) (2.11.7)\n",
      "Requirement already satisfied: pyyaml>=6.0.1 in d:\\work\\myenv\\lib\\site-packages (from llama-index-core<0.13.0,>=0.12.0->llama-index-embeddings-ollama) (6.0.2)\n",
      "Requirement already satisfied: requests>=2.31.0 in d:\\work\\myenv\\lib\\site-packages (from llama-index-core<0.13.0,>=0.12.0->llama-index-embeddings-ollama) (2.32.4)\n",
      "Requirement already satisfied: setuptools>=80.9.0 in d:\\work\\myenv\\lib\\site-packages (from llama-index-core<0.13.0,>=0.12.0->llama-index-embeddings-ollama) (80.9.0)\n",
      "Requirement already satisfied: sqlalchemy>=1.4.49 in d:\\work\\myenv\\lib\\site-packages (from sqlalchemy[asyncio]>=1.4.49->llama-index-core<0.13.0,>=0.12.0->llama-index-embeddings-ollama) (2.0.41)\n",
      "Requirement already satisfied: tenacity!=8.4.0,<10.0.0,>=8.2.0 in d:\\work\\myenv\\lib\\site-packages (from llama-index-core<0.13.0,>=0.12.0->llama-index-embeddings-ollama) (9.1.2)\n",
      "Requirement already satisfied: tiktoken>=0.7.0 in d:\\work\\myenv\\lib\\site-packages (from llama-index-core<0.13.0,>=0.12.0->llama-index-embeddings-ollama) (0.9.0)\n",
      "Requirement already satisfied: tqdm<5,>=4.66.1 in d:\\work\\myenv\\lib\\site-packages (from llama-index-core<0.13.0,>=0.12.0->llama-index-embeddings-ollama) (4.67.1)\n",
      "Requirement already satisfied: typing-extensions>=4.5.0 in d:\\work\\myenv\\lib\\site-packages (from llama-index-core<0.13.0,>=0.12.0->llama-index-embeddings-ollama) (4.14.0)\n",
      "Requirement already satisfied: typing-inspect>=0.8.0 in d:\\work\\myenv\\lib\\site-packages (from llama-index-core<0.13.0,>=0.12.0->llama-index-embeddings-ollama) (0.9.0)\n",
      "Requirement already satisfied: wrapt in d:\\work\\myenv\\lib\\site-packages (from llama-index-core<0.13.0,>=0.12.0->llama-index-embeddings-ollama) (1.17.2)\n",
      "Requirement already satisfied: aiohappyeyeballs>=2.5.0 in d:\\work\\myenv\\lib\\site-packages (from aiohttp<4,>=3.8.6->llama-index-core<0.13.0,>=0.12.0->llama-index-embeddings-ollama) (2.6.1)\n",
      "Requirement already satisfied: aiosignal>=1.1.2 in d:\\work\\myenv\\lib\\site-packages (from aiohttp<4,>=3.8.6->llama-index-core<0.13.0,>=0.12.0->llama-index-embeddings-ollama) (1.3.2)\n",
      "Requirement already satisfied: async-timeout<6.0,>=4.0 in d:\\work\\myenv\\lib\\site-packages (from aiohttp<4,>=3.8.6->llama-index-core<0.13.0,>=0.12.0->llama-index-embeddings-ollama) (4.0.3)\n",
      "Requirement already satisfied: attrs>=17.3.0 in d:\\work\\myenv\\lib\\site-packages (from aiohttp<4,>=3.8.6->llama-index-core<0.13.0,>=0.12.0->llama-index-embeddings-ollama) (25.3.0)\n",
      "Requirement already satisfied: frozenlist>=1.1.1 in d:\\work\\myenv\\lib\\site-packages (from aiohttp<4,>=3.8.6->llama-index-core<0.13.0,>=0.12.0->llama-index-embeddings-ollama) (1.7.0)\n",
      "Requirement already satisfied: multidict<7.0,>=4.5 in d:\\work\\myenv\\lib\\site-packages (from aiohttp<4,>=3.8.6->llama-index-core<0.13.0,>=0.12.0->llama-index-embeddings-ollama) (6.5.1)\n",
      "Requirement already satisfied: propcache>=0.2.0 in d:\\work\\myenv\\lib\\site-packages (from aiohttp<4,>=3.8.6->llama-index-core<0.13.0,>=0.12.0->llama-index-embeddings-ollama) (0.3.2)\n",
      "Requirement already satisfied: yarl<2.0,>=1.17.0 in d:\\work\\myenv\\lib\\site-packages (from aiohttp<4,>=3.8.6->llama-index-core<0.13.0,>=0.12.0->llama-index-embeddings-ollama) (1.20.1)\n",
      "Requirement already satisfied: griffe in d:\\work\\myenv\\lib\\site-packages (from banks<3,>=2.0.0->llama-index-core<0.13.0,>=0.12.0->llama-index-embeddings-ollama) (1.7.3)\n",
      "Requirement already satisfied: jinja2 in d:\\work\\myenv\\lib\\site-packages (from banks<3,>=2.0.0->llama-index-core<0.13.0,>=0.12.0->llama-index-embeddings-ollama) (3.1.6)\n",
      "Requirement already satisfied: platformdirs in d:\\work\\myenv\\lib\\site-packages (from banks<3,>=2.0.0->llama-index-core<0.13.0,>=0.12.0->llama-index-embeddings-ollama) (4.3.8)\n",
      "Requirement already satisfied: anyio in d:\\work\\myenv\\lib\\site-packages (from httpx->llama-index-core<0.13.0,>=0.12.0->llama-index-embeddings-ollama) (4.9.0)\n",
      "Requirement already satisfied: certifi in d:\\work\\myenv\\lib\\site-packages (from httpx->llama-index-core<0.13.0,>=0.12.0->llama-index-embeddings-ollama) (2025.6.15)\n",
      "Requirement already satisfied: httpcore==1.* in d:\\work\\myenv\\lib\\site-packages (from httpx->llama-index-core<0.13.0,>=0.12.0->llama-index-embeddings-ollama) (1.0.9)\n",
      "Requirement already satisfied: idna in d:\\work\\myenv\\lib\\site-packages (from httpx->llama-index-core<0.13.0,>=0.12.0->llama-index-embeddings-ollama) (3.10)\n",
      "Requirement already satisfied: h11>=0.16 in d:\\work\\myenv\\lib\\site-packages (from httpcore==1.*->httpx->llama-index-core<0.13.0,>=0.12.0->llama-index-embeddings-ollama) (0.16.0)\n",
      "Requirement already satisfied: llama-index-instrumentation>=0.1.0 in d:\\work\\myenv\\lib\\site-packages (from llama-index-workflows<2,>=1.0.1->llama-index-core<0.13.0,>=0.12.0->llama-index-embeddings-ollama) (0.2.0)\n",
      "Requirement already satisfied: click in d:\\work\\myenv\\lib\\site-packages (from nltk>3.8.1->llama-index-core<0.13.0,>=0.12.0->llama-index-embeddings-ollama) (8.2.1)\n",
      "Requirement already satisfied: joblib in d:\\work\\myenv\\lib\\site-packages (from nltk>3.8.1->llama-index-core<0.13.0,>=0.12.0->llama-index-embeddings-ollama) (1.5.1)\n",
      "Requirement already satisfied: regex>=2021.8.3 in d:\\work\\myenv\\lib\\site-packages (from nltk>3.8.1->llama-index-core<0.13.0,>=0.12.0->llama-index-embeddings-ollama) (2024.11.6)\n",
      "Requirement already satisfied: annotated-types>=0.6.0 in d:\\work\\myenv\\lib\\site-packages (from pydantic>=2.8.0->llama-index-core<0.13.0,>=0.12.0->llama-index-embeddings-ollama) (0.7.0)\n",
      "Requirement already satisfied: pydantic-core==2.33.2 in d:\\work\\myenv\\lib\\site-packages (from pydantic>=2.8.0->llama-index-core<0.13.0,>=0.12.0->llama-index-embeddings-ollama) (2.33.2)\n",
      "Requirement already satisfied: typing-inspection>=0.4.0 in d:\\work\\myenv\\lib\\site-packages (from pydantic>=2.8.0->llama-index-core<0.13.0,>=0.12.0->llama-index-embeddings-ollama) (0.4.1)\n",
      "Requirement already satisfied: charset_normalizer<4,>=2 in d:\\work\\myenv\\lib\\site-packages (from requests>=2.31.0->llama-index-core<0.13.0,>=0.12.0->llama-index-embeddings-ollama) (3.4.2)\n",
      "Requirement already satisfied: urllib3<3,>=1.21.1 in d:\\work\\myenv\\lib\\site-packages (from requests>=2.31.0->llama-index-core<0.13.0,>=0.12.0->llama-index-embeddings-ollama) (2.5.0)\n",
      "Requirement already satisfied: greenlet>=1 in d:\\work\\myenv\\lib\\site-packages (from sqlalchemy>=1.4.49->sqlalchemy[asyncio]>=1.4.49->llama-index-core<0.13.0,>=0.12.0->llama-index-embeddings-ollama) (3.2.3)\n",
      "Requirement already satisfied: colorama in d:\\work\\myenv\\lib\\site-packages (from tqdm<5,>=4.66.1->llama-index-core<0.13.0,>=0.12.0->llama-index-embeddings-ollama) (0.4.6)\n",
      "Requirement already satisfied: mypy-extensions>=0.3.0 in d:\\work\\myenv\\lib\\site-packages (from typing-inspect>=0.8.0->llama-index-core<0.13.0,>=0.12.0->llama-index-embeddings-ollama) (1.1.0)\n",
      "Requirement already satisfied: marshmallow<4.0.0,>=3.18.0 in d:\\work\\myenv\\lib\\site-packages (from dataclasses-json->llama-index-core<0.13.0,>=0.12.0->llama-index-embeddings-ollama) (3.26.1)\n",
      "Requirement already satisfied: packaging>=17.0 in d:\\work\\myenv\\lib\\site-packages (from marshmallow<4.0.0,>=3.18.0->dataclasses-json->llama-index-core<0.13.0,>=0.12.0->llama-index-embeddings-ollama) (24.2)\n",
      "Requirement already satisfied: exceptiongroup>=1.0.2 in d:\\work\\myenv\\lib\\site-packages (from anyio->httpx->llama-index-core<0.13.0,>=0.12.0->llama-index-embeddings-ollama) (1.3.0)\n",
      "Requirement already satisfied: sniffio>=1.1 in d:\\work\\myenv\\lib\\site-packages (from anyio->httpx->llama-index-core<0.13.0,>=0.12.0->llama-index-embeddings-ollama) (1.3.1)\n",
      "Requirement already satisfied: MarkupSafe>=2.0 in d:\\work\\myenv\\lib\\site-packages (from jinja2->banks<3,>=2.0.0->llama-index-core<0.13.0,>=0.12.0->llama-index-embeddings-ollama) (3.0.2)\n",
      "Downloading llama_index_embeddings_ollama-0.6.0-py3-none-any.whl (3.4 kB)\n",
      "Installing collected packages: llama-index-embeddings-ollama\n",
      "Successfully installed llama-index-embeddings-ollama-0.6.0\n"
     ]
    },
    {
     "name": "stderr",
     "output_type": "stream",
     "text": [
      "\n",
      "[notice] A new release of pip is available: 25.0.1 -> 25.1.1\n",
      "[notice] To update, run: python.exe -m pip install --upgrade pip\n"
     ]
    }
   ],
   "source": [
    "# %pip install llama-index\n",
    "# %pip install langchain-ollama\n",
    "# %pip install tiktoken\n",
    "# %pip install llama-index-llms-ollama\n",
    "%pip install llama-index-embeddings-ollama"
   ]
  },
  {
   "cell_type": "code",
   "execution_count": null,
   "id": "492c9714",
   "metadata": {},
   "outputs": [],
   "source": [
    "from llama_index.core import (\n",
    "    VectorStoreIndex,\n",
    "    SimpleDirectoryReader,\n",
    "    Settings,\n",
    ")\n",
    "from llama_index.embeddings.ollama import OllamaEmbedding\n",
    "from llama_index.llms.ollama import Ollama\n",
    "from llama_index.core.text_splitter import TokenTextSplitter\n",
    "from llama_index.core.node_parser import SentenceSplitter\n",
    "import tiktoken"
   ]
  },
  {
   "cell_type": "code",
   "execution_count": 24,
   "id": "1a9e0337",
   "metadata": {},
   "outputs": [],
   "source": [
    "# Configure global settings\n",
    "Settings.llm = Ollama(model=\"llama3.2\", temperature=0, context_window=4096, request_timeout=60.0)\n",
    "Settings.embed_model = OllamaEmbedding(model_name=\"nomic-embed-text\")\n",
    "Settings.node_parser = SentenceSplitter(chunk_size=512, chunk_overlap=20)\n",
    "Settings.num_output = 256\n",
    "Settings.context_window = 4096"
   ]
  },
  {
   "cell_type": "code",
   "execution_count": 19,
   "id": "83f57f5a",
   "metadata": {},
   "outputs": [],
   "source": [
    "# Token splitter using GPT-3.5 tokenizer (can still work here for consistency)\n",
    "text_splitter = TokenTextSplitter(\n",
    "    separator=\" \",\n",
    "    chunk_size=1024,\n",
    "    chunk_overlap=20,\n",
    "    backup_separators=[\"\\n\"],\n",
    "    tokenizer=tiktoken.encoding_for_model(\"gpt-3.5-turbo\").encode\n",
    ")"
   ]
  },
  {
   "cell_type": "code",
   "execution_count": 20,
   "id": "de0e0299",
   "metadata": {},
   "outputs": [],
   "source": [
    "# Load and index documents\n",
    "documents = SimpleDirectoryReader(input_dir='data').load_data()\n",
    "index = VectorStoreIndex.from_documents(documents)\n",
    "\n",
    "# Save the index to disk\n",
    "index.storage_context.persist()"
   ]
  },
  {
   "cell_type": "code",
   "execution_count": 27,
   "id": "03e12a9f",
   "metadata": {},
   "outputs": [
    {
     "name": "stdout",
     "output_type": "stream",
     "text": [
      "An Agent is a software entity that can perform specific tasks or execute predefined instructions. It acts as a virtual representative, carrying out actions on behalf of its creator or owner. Agents are often used in automation, customer service, and other applications where autonomous behavior is required. They can be programmed to respond to user input, interact with external systems, and make decisions based on their assigned tasks or goals.\n"
     ]
    }
   ],
   "source": [
    "# Query the index\n",
    "query_engine = index.as_query_engine()\n",
    "response = query_engine.query(\"What is an Agent?\")\n",
    "print(response)"
   ]
  },
  {
   "cell_type": "code",
   "execution_count": 26,
   "id": "8b6d248b",
   "metadata": {},
   "outputs": [
    {
     "name": "stdout",
     "output_type": "stream",
     "text": [
      "An agent consists of three core components. \n",
      "\n",
      "1. Model - This is the power behind the agent's reasoning and decision-making abilities.\n",
      "\n",
      "2. Tools - These are external functions or APIs that the agent can use to take action.\n",
      "\n",
      "3. Instructions - These are explicit guidelines and guarantees defining how the agent behaves.\n"
     ]
    }
   ],
   "source": [
    "# Query the index\n",
    "query_engine = index.as_query_engine()\n",
    "response = query_engine.query(\"What are the agent design foundations?\")\n",
    "print(response)"
   ]
  },
  {
   "cell_type": "code",
   "execution_count": 30,
   "id": "034b799c",
   "metadata": {},
   "outputs": [
    {
     "name": "stdout",
     "output_type": "stream",
     "text": [
      "Agent orchestration refers to the process of coordinating multiple agents to work together towards a common goal. It involves designing a system where each agent can handle various tasks, and tools are used to manage and simplify the process. This approach allows for efficient completion of tasks without necessarily requiring multiple agents to be present or checked out.\n"
     ]
    }
   ],
   "source": [
    "# Query the index\n",
    "query_engine = index.as_query_engine()\n",
    "response = query_engine.query(\"What is agent orchestration?\")\n",
    "print(response)"
   ]
  },
  {
   "cell_type": "code",
   "execution_count": 29,
   "id": "a50949ae",
   "metadata": {},
   "outputs": [
    {
     "name": "stdout",
     "output_type": "stream",
     "text": [
      "Presidential elections occur after the meeting of the electors has been held. If no certificates of votes from any State have been received at the seat of government on the fourth Wednesday in December, following the election, a special messenger is sent to the district judge with custody of one certificate of votes from that State, and the judge must transmit the list to the seat of government.\n"
     ]
    }
   ],
   "source": [
    "# Query the index\n",
    "query_engine = index.as_query_engine()\n",
    "response = query_engine.query(\"What are the Presidential Elections and Vacancies?\")\n",
    "print(response)"
   ]
  },
  {
   "cell_type": "code",
   "execution_count": 31,
   "id": "bd30dcc3",
   "metadata": {},
   "outputs": [
    {
     "name": "stdout",
     "output_type": "stream",
     "text": [
      "The official territorial papers are those that may be required to be published by Act of Congress.\n"
     ]
    }
   ],
   "source": [
    "# Query the index\n",
    "query_engine = index.as_query_engine()\n",
    "response = query_engine.query(\"What are the official territorial papers?\")\n",
    "print(response)"
   ]
  },
  {
   "cell_type": "code",
   "execution_count": 32,
   "id": "f224c3bc",
   "metadata": {},
   "outputs": [
    {
     "name": "stdout",
     "output_type": "stream",
     "text": [
      "The Archivist serves as the primary authority responsible for managing the Administration's functions. They have the power to delegate certain tasks to other officers and employees, but remain accountable for their administration. The Archivist also has the authority to organize the Administration, establish regional offices, and create advisory committees to provide guidance on various aspects of their work.\n"
     ]
    }
   ],
   "source": [
    "# Query the index\n",
    "query_engine = index.as_query_engine()\n",
    "response = query_engine.query(\"What is the Archivist's role?\")\n",
    "print(response)"
   ]
  }
 ],
 "metadata": {
  "kernelspec": {
   "display_name": "myenv",
   "language": "python",
   "name": "python3"
  },
  "language_info": {
   "codemirror_mode": {
    "name": "ipython",
    "version": 3
   },
   "file_extension": ".py",
   "mimetype": "text/x-python",
   "name": "python",
   "nbconvert_exporter": "python",
   "pygments_lexer": "ipython3",
   "version": "3.10.8"
  }
 },
 "nbformat": 4,
 "nbformat_minor": 5
}
